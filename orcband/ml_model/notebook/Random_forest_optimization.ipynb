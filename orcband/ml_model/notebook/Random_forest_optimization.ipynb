{
 "cells": [
  {
   "cell_type": "code",
   "execution_count": 1,
   "metadata": {},
   "outputs": [],
   "source": [
    "import sys\n",
    "sys.path.append(\"../code/\")\n",
    "import rfr_optimization\n",
    "import pandas as pd"
   ]
  },
  {
   "cell_type": "markdown",
   "metadata": {},
   "source": [
    "This notebook is to give an example of how to evaluation the model"
   ]
  },
  {
   "cell_type": "code",
   "execution_count": 2,
   "metadata": {},
   "outputs": [
    {
     "name": "stdout",
     "output_type": "stream",
     "text": [
      "RandomizedSearchCV took 197.11 seconds for 20 candidates parameter settings.\n",
      "Model with rank: 1\n",
      "Mean validation score: 0.695 (std: 0.013)\n",
      "Parameters: {'bootstrap': True, 'max_depth': None, 'min_samples_split': 14}\n",
      "\n",
      "Model with rank: 2\n",
      "Mean validation score: 0.695 (std: 0.013)\n",
      "Parameters: {'bootstrap': True, 'max_depth': None, 'min_samples_split': 12}\n",
      "\n",
      "Model with rank: 3\n",
      "Mean validation score: 0.694 (std: 0.013)\n",
      "Parameters: {'bootstrap': True, 'max_depth': None, 'min_samples_split': 11}\n",
      "\n",
      "Model with rank: 4\n",
      "Mean validation score: 0.694 (std: 0.014)\n",
      "Parameters: {'bootstrap': True, 'max_depth': None, 'min_samples_split': 10}\n",
      "\n",
      "Model with rank: 5\n",
      "Mean validation score: 0.692 (std: 0.013)\n",
      "Parameters: {'bootstrap': True, 'max_depth': None, 'min_samples_split': 24}\n",
      "\n"
     ]
    }
   ],
   "source": [
    "#fine optimal hyperparameter for random forest regression\n",
    "data = pd.read_csv('../../../documentation/data/DescriptorsDataset.csv')\n",
    "result = rfr_optimization.search_hyperparameter(data)"
   ]
  },
  {
   "cell_type": "code",
   "execution_count": null,
   "metadata": {},
   "outputs": [],
   "source": []
  }
 ],
 "metadata": {
  "kernelspec": {
   "display_name": "Python 3",
   "language": "python",
   "name": "python3"
  },
  "language_info": {
   "codemirror_mode": {
    "name": "ipython",
    "version": 3
   },
   "file_extension": ".py",
   "mimetype": "text/x-python",
   "name": "python",
   "nbconvert_exporter": "python",
   "pygments_lexer": "ipython3",
   "version": "3.6.8"
  }
 },
 "nbformat": 4,
 "nbformat_minor": 2
}
